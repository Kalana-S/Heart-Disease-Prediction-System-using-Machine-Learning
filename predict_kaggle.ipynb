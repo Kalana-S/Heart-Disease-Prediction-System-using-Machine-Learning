{
 "cells": [
  {
   "cell_type": "code",
   "execution_count": null,
   "id": "f4b2d6d7-1684-4f43-a4e0-d666db65ccc3",
   "metadata": {},
   "outputs": [],
   "source": [
    "import pandas as pd\n",
    "import numpy as np"
   ]
  },
  {
   "cell_type": "code",
   "execution_count": null,
   "id": "5f52c1a2-29a6-466a-bbbd-466e26cfe76e",
   "metadata": {},
   "outputs": [],
   "source": [
    "df_test = pd.read_csv('heart_test.csv', encoding='latin1')"
   ]
  },
  {
   "cell_type": "code",
   "execution_count": null,
   "id": "272d3649-5ebe-4d38-af11-c79c98266561",
   "metadata": {},
   "outputs": [],
   "source": [
    "df_test.head()"
   ]
  },
  {
   "cell_type": "code",
   "execution_count": null,
   "id": "fef964f2-e76b-4ed7-a74e-fb744da4d071",
   "metadata": {},
   "outputs": [],
   "source": [
    "print(\"Shape:\", df_test.shape)"
   ]
  },
  {
   "cell_type": "code",
   "execution_count": null,
   "id": "e7eaaf27-213d-4e42-b53b-6c8374f377c0",
   "metadata": {},
   "outputs": [],
   "source": [
    "print(\"\\nMissing values:\\n\", df_test.isnull().sum())"
   ]
  },
  {
   "cell_type": "code",
   "execution_count": null,
   "id": "26533a5f-a1e8-4209-84de-428d4c8db624",
   "metadata": {},
   "outputs": [],
   "source": [
    "df_test_encoded = pd.get_dummies(df_test, drop_first=True)\n",
    "print(\"Encoding complete. Encoded shape:\", df_test_encoded.shape)"
   ]
  },
  {
   "cell_type": "code",
   "execution_count": null,
   "id": "08dc929a-dade-46d3-90c7-5f5f6d2d157a",
   "metadata": {},
   "outputs": [],
   "source": [
    "df_test_encoded.head()"
   ]
  },
  {
   "cell_type": "code",
   "execution_count": null,
   "id": "9dd3c992-2236-4308-8b00-81aefbcb7e89",
   "metadata": {},
   "outputs": [],
   "source": [
    "import json"
   ]
  },
  {
   "cell_type": "code",
   "execution_count": null,
   "id": "a115eacb-cade-493c-916a-5f7e9e9767ea",
   "metadata": {},
   "outputs": [],
   "source": [
    "with open(\"model_columns.json\", \"r\") as f:\n",
    "    meta = json.load(f)\n",
    "    model_columns = meta[\"columns\"]\n",
    "    numerical_columns = meta[\"numerical_columns\"]"
   ]
  },
  {
   "cell_type": "code",
   "execution_count": null,
   "id": "caf08f09-bcd2-4066-8367-adb40a45112f",
   "metadata": {},
   "outputs": [],
   "source": [
    "missing_cols = [col for col in model_columns if col not in df_test_encoded.columns]\n",
    "for col in missing_cols:\n",
    "    df_test_encoded[col] = 0\n",
    "\n",
    "df_test_encoded = df_test_encoded[model_columns]\n",
    "print(\"Columns aligned with training data.\")"
   ]
  },
  {
   "cell_type": "code",
   "execution_count": null,
   "id": "c01d4ae5-979f-46f6-b014-b05d23939b1d",
   "metadata": {},
   "outputs": [],
   "source": [
    "import pickle\n",
    "from sklearn.preprocessing import StandardScaler"
   ]
  },
  {
   "cell_type": "code",
   "execution_count": null,
   "id": "1e1ae981-8928-4c8e-9843-b770eee10374",
   "metadata": {},
   "outputs": [],
   "source": [
    "with open(\"scaler.pkl\", \"rb\") as file:\n",
    "    scaler = pickle.load(file)\n",
    "\n",
    "df_test_encoded[numerical_columns] = scaler.transform(df_test_encoded[numerical_columns])\n",
    "print(\"Scaling applied.\")"
   ]
  },
  {
   "cell_type": "code",
   "execution_count": null,
   "id": "97b116d9-a401-4866-8792-7a926a8cd556",
   "metadata": {},
   "outputs": [],
   "source": [
    "with open(\"best_xgb_model.pkl\", \"rb\") as file:\n",
    "    model = pickle.load(file)\n",
    "print(\"Model loaded.\")"
   ]
  },
  {
   "cell_type": "code",
   "execution_count": null,
   "id": "10b66fa4-4495-4214-ae23-92319a7797a1",
   "metadata": {},
   "outputs": [],
   "source": [
    "predictions = model.predict(df_test_encoded)"
   ]
  }
 ],
 "metadata": {
  "kernelspec": {
   "display_name": "Python [conda env:base] *",
   "language": "python",
   "name": "conda-base-py"
  },
  "language_info": {
   "codemirror_mode": {
    "name": "ipython",
    "version": 3
   },
   "file_extension": ".py",
   "mimetype": "text/x-python",
   "name": "python",
   "nbconvert_exporter": "python",
   "pygments_lexer": "ipython3",
   "version": "3.12.7"
  }
 },
 "nbformat": 4,
 "nbformat_minor": 5
}
