{
 "cells": [
  {
   "cell_type": "code",
   "execution_count": null,
   "id": "d0d16943-9bf6-4125-87ba-9384e0b6e2b6",
   "metadata": {},
   "outputs": [],
   "source": [
    "import pandas as pd"
   ]
  },
  {
   "cell_type": "code",
   "execution_count": null,
   "id": "32a17e86-3f5d-4363-ae6c-ee89e2915897",
   "metadata": {},
   "outputs": [],
   "source": [
    "df = pd.read_csv('heart_train.csv', encoding='latin1')"
   ]
  },
  {
   "cell_type": "code",
   "execution_count": null,
   "id": "888308eb-a0ee-4504-92f7-99b9af37cd40",
   "metadata": {},
   "outputs": [],
   "source": [
    "print(\"Shape:\", df.shape)"
   ]
  },
  {
   "cell_type": "code",
   "execution_count": null,
   "id": "84ee391e-d60c-4322-a545-c8ed5431f173",
   "metadata": {},
   "outputs": [],
   "source": [
    "df.head(2)"
   ]
  },
  {
   "cell_type": "code",
   "execution_count": null,
   "id": "9bb48723-8735-48df-bee5-c4b7052a603e",
   "metadata": {},
   "outputs": [],
   "source": [
    "df.tail(2)"
   ]
  },
  {
   "cell_type": "code",
   "execution_count": null,
   "id": "c313f903-be4f-4441-89e5-7313cd743a49",
   "metadata": {},
   "outputs": [],
   "source": [
    "print(\"\\nColumn names:\", df.columns.tolist())"
   ]
  },
  {
   "cell_type": "code",
   "execution_count": null,
   "id": "875a9cc4-e022-4a1b-bab5-a46deb57f2de",
   "metadata": {},
   "outputs": [],
   "source": [
    "print(\"\\nMissing values:\\n\", df.isnull().sum())"
   ]
  },
  {
   "cell_type": "code",
   "execution_count": null,
   "id": "9c6362f2-2ef5-4260-b367-b4961784211f",
   "metadata": {},
   "outputs": [],
   "source": [
    "print(\"\\nColumn data types:\")\n",
    "print(df.dtypes)"
   ]
  },
  {
   "cell_type": "code",
   "execution_count": null,
   "id": "695650d4-c17a-40f9-857b-9caf0b0f053c",
   "metadata": {},
   "outputs": [],
   "source": [
    "print(\"\\nValue counts for target column:\")\n",
    "print(df['HeartDisease'].value_counts())"
   ]
  },
  {
   "cell_type": "code",
   "execution_count": null,
   "id": "ad8dc5e9-e2ca-44b0-b9f5-602959218f4a",
   "metadata": {},
   "outputs": [],
   "source": [
    "import matplotlib.pyplot as plt\n",
    "import seaborn as sns"
   ]
  },
  {
   "cell_type": "code",
   "execution_count": null,
   "id": "84eaf65a-dca8-477c-b573-8a0247f15ea7",
   "metadata": {},
   "outputs": [],
   "source": [
    "numerical_columns = df.select_dtypes(include=['int64', 'float64']).columns"
   ]
  },
  {
   "cell_type": "code",
   "execution_count": null,
   "id": "69ed4382-5f91-4fc6-9445-2f101aaa9db7",
   "metadata": {},
   "outputs": [],
   "source": [
    "plt.figure(figsize=(15, 8))\n",
    "df[numerical_columns].boxplot()\n",
    "plt.title(\"Boxplots for Numerical Features\")\n",
    "plt.xticks(rotation=45)\n",
    "plt.show()"
   ]
  },
  {
   "cell_type": "code",
   "execution_count": null,
   "id": "74a5dc8f-c0ec-49bf-ae22-6694ac325be7",
   "metadata": {},
   "outputs": [],
   "source": [
    "from scipy.stats import zscore"
   ]
  },
  {
   "cell_type": "code",
   "execution_count": null,
   "id": "a2383d77-7561-4ebd-b0b6-571ca99cc72d",
   "metadata": {},
   "outputs": [],
   "source": [
    "z_scores = df[numerical_columns].apply(zscore)\n",
    "\n",
    "outliers = (z_scores.abs() > 3).any(axis=1)\n",
    "print(\"Number of rows with outliers:\", outliers.sum())"
   ]
  },
  {
   "cell_type": "code",
   "execution_count": null,
   "id": "27980693-e86c-4e39-a994-9c8e975a57cc",
   "metadata": {},
   "outputs": [],
   "source": [
    "df_clean = df[~outliers].reset_index(drop=True)"
   ]
  },
  {
   "cell_type": "code",
   "execution_count": null,
   "id": "9980441c-4da3-4e21-bb61-db064d441b56",
   "metadata": {},
   "outputs": [],
   "source": [
    "print(\"Shape:\", df_clean.shape)"
   ]
  },
  {
   "cell_type": "code",
   "execution_count": null,
   "id": "1888baac-2dbe-48c2-a035-4c005734c516",
   "metadata": {},
   "outputs": [],
   "source": [
    "df_encoded = pd.get_dummies(df_clean, drop_first=True)\n",
    "print(\"Encoded dataframe shape:\", df_encoded.shape)"
   ]
  },
  {
   "cell_type": "code",
   "execution_count": null,
   "id": "6f30ae90-a1b9-490f-a6b2-ffd88c76cfc3",
   "metadata": {},
   "outputs": [],
   "source": [
    "df_encoded.head()"
   ]
  },
  {
   "cell_type": "code",
   "execution_count": null,
   "id": "a9159a1d-77f0-4e30-93ee-39b5295d6919",
   "metadata": {},
   "outputs": [],
   "source": [
    "from sklearn.model_selection import train_test_split\n",
    "from sklearn.preprocessing import StandardScaler"
   ]
  },
  {
   "cell_type": "code",
   "execution_count": null,
   "id": "20a3eb34-a54d-460a-bbfb-04e3d6ca3c7a",
   "metadata": {},
   "outputs": [],
   "source": [
    "X = df_encoded.drop(\"HeartDisease\", axis=1)\n",
    "y = df_encoded[\"HeartDisease\"]\n",
    "\n",
    "numerical_columns = X.select_dtypes(include=['int64', 'float64']).columns\n",
    "\n",
    "scaler = StandardScaler()\n",
    "X_scaled = X.copy()\n",
    "X_scaled[numerical_columns] = scaler.fit_transform(X_scaled[numerical_columns])\n",
    "\n",
    "X_train, X_test, y_train, y_test = train_test_split(\n",
    "    X_scaled, y, test_size=0.2, random_state=42, stratify=y\n",
    ")\n",
    "\n",
    "print(\"Train shape:\", X_train.shape)\n",
    "print(\"Test shape:\", X_test.shape)"
   ]
  },
  {
   "cell_type": "code",
   "execution_count": null,
   "id": "90f8a72a-5e6a-47d9-9c5c-90d1c977ee54",
   "metadata": {},
   "outputs": [],
   "source": [
    "from sklearn.linear_model import LogisticRegression\n",
    "from sklearn.ensemble import RandomForestClassifier\n",
    "from sklearn.metrics import classification_report, accuracy_score\n",
    "from xgboost import XGBClassifier"
   ]
  },
  {
   "cell_type": "code",
   "execution_count": null,
   "id": "81bf5fcc-31d3-4d06-8091-a5b4ba7cf2a8",
   "metadata": {},
   "outputs": [],
   "source": [
    "models = {\n",
    "    \"Logistic Regression\": LogisticRegression(max_iter=2000, random_state=42),\n",
    "    \"Random Forest\": RandomForestClassifier(random_state=42),\n",
    "    \"XGBoost\": XGBClassifier(eval_metric='logloss', random_state=42)\n",
    "}\n",
    "\n",
    "for name, model in models.items():\n",
    "    print(f\"\\n===== {name} =====\")\n",
    "\n",
    "    model.fit(X_train, y_train)\n",
    "\n",
    "    y_train_pred = model.predict(X_train)\n",
    "    y_test_pred = model.predict(X_test)\n",
    "\n",
    "    print(f\"Train Accuracy: {accuracy_score(y_train, y_train_pred):.4f}\")\n",
    "    print(f\"Test Accuracy:  {accuracy_score(y_test, y_test_pred):.4f}\")\n",
    " \n",
    "    print(\"Classification Report (Test):\")\n",
    "    print(classification_report(y_test, y_test_pred))"
   ]
  },
  {
   "cell_type": "code",
   "execution_count": null,
   "id": "1d6a3c68-5753-4ce5-9cc8-d0b6bd00435a",
   "metadata": {},
   "outputs": [],
   "source": [
    "from sklearn.model_selection import GridSearchCV"
   ]
  },
  {
   "cell_type": "code",
   "execution_count": null,
   "id": "e0e0f7a3-a92d-4c45-ae4b-03798f46278d",
   "metadata": {},
   "outputs": [],
   "source": [
    "xgb = XGBClassifier(eval_metric='logloss', random_state=42)\n",
    "\n",
    "param_grid = {\n",
    "    'n_estimators': [100, 150],\n",
    "    'max_depth': [3, 5, 7],\n",
    "    'learning_rate': [0.05, 0.1, 0.2],\n",
    "    'subsample': [0.8, 1.0]\n",
    "}\n",
    "\n",
    "grid_search = GridSearchCV(estimator=xgb, param_grid=param_grid,\n",
    "                           scoring='accuracy', cv=5, n_jobs=-1, verbose=1)\n",
    "\n",
    "grid_search.fit(X_train, y_train)\n",
    "\n",
    "best_xgb = grid_search.best_estimator_\n",
    "\n",
    "print(\"Best Parameters:\", grid_search.best_params_)\n",
    "\n",
    "from sklearn.metrics import classification_report, accuracy_score\n",
    "\n",
    "y_pred = best_xgb.predict(X_test)\n",
    "print(f\"Test Accuracy after tuning: {accuracy_score(y_test, y_pred):.4f}\")\n",
    "print(\"Classification Report (Test):\")\n",
    "print(classification_report(y_test, y_pred))"
   ]
  },
  {
   "cell_type": "code",
   "execution_count": null,
   "id": "6a93cdda-0391-4b3a-a077-0a27ffdd055b",
   "metadata": {},
   "outputs": [],
   "source": [
    "from sklearn.metrics import confusion_matrix, roc_curve, auc"
   ]
  },
  {
   "cell_type": "code",
   "execution_count": null,
   "id": "bb510cab-cf58-4e44-800d-1fad1a1a91c6",
   "metadata": {},
   "outputs": [],
   "source": [
    "y_pred = best_xgb.predict(X_test)\n",
    "cm = confusion_matrix(y_test, y_pred)\n",
    "\n",
    "plt.figure(figsize=(6, 5))\n",
    "sns.heatmap(cm, annot=True, fmt='d', cmap='Blues')\n",
    "plt.xlabel(\"Predicted Label\")\n",
    "plt.ylabel(\"True Label\")\n",
    "plt.title(\"Confusion Matrix\")\n",
    "plt.show()"
   ]
  },
  {
   "cell_type": "code",
   "execution_count": null,
   "id": "9f352596-c860-4d5c-9c26-318502886dcc",
   "metadata": {},
   "outputs": [],
   "source": [
    "y_proba = best_xgb.predict_proba(X_test)[:, 1]\n",
    "fpr, tpr, thresholds = roc_curve(y_test, y_proba)\n",
    "roc_auc = auc(fpr, tpr)\n",
    "\n",
    "plt.figure(figsize=(6, 5))\n",
    "plt.plot(fpr, tpr, label=f\"AUC = {roc_auc:.2f}\")\n",
    "plt.plot([0, 1], [0, 1], 'k--')\n",
    "plt.xlabel(\"False Positive Rate\")\n",
    "plt.ylabel(\"True Positive Rate (Recall)\")\n",
    "plt.title(\"ROC Curve\")\n",
    "plt.legend()\n",
    "plt.grid()\n",
    "plt.show()"
   ]
  },
  {
   "cell_type": "code",
   "execution_count": null,
   "id": "d2baa80b-8122-4a09-803b-a95c5448faf0",
   "metadata": {},
   "outputs": [],
   "source": [
    "import json"
   ]
  },
  {
   "cell_type": "code",
   "execution_count": null,
   "id": "7586ccc8-e9d4-4356-8dfd-23ba6ee2ee3e",
   "metadata": {},
   "outputs": [],
   "source": [
    "model_metadata = {\n",
    "    \"columns\": X.columns.tolist(),\n",
    "    \"numerical_columns\": numerical_columns.tolist()\n",
    "}\n",
    "\n",
    "with open(\"model_columns.json\", \"w\") as f:\n",
    "    json.dump(model_metadata, f)\n",
    "\n",
    "print(\"model_columns.json saved.\")"
   ]
  },
  {
   "cell_type": "code",
   "execution_count": null,
   "id": "6637763a-d6ed-4143-b0b8-9986a8a1cc07",
   "metadata": {},
   "outputs": [],
   "source": [
    "import pickle"
   ]
  },
  {
   "cell_type": "code",
   "execution_count": null,
   "id": "6cd3cf1b-5b30-4ee6-87a2-325a8857fb5e",
   "metadata": {},
   "outputs": [],
   "source": [
    "with open(\"scaler.pkl\", \"wb\") as f:\n",
    "    pickle.dump(scaler, f)\n",
    "\n",
    "print(\"scaler.pkl saved.\")"
   ]
  },
  {
   "cell_type": "code",
   "execution_count": null,
   "id": "f9e84e16-44b4-4c53-9398-4c819905feb3",
   "metadata": {},
   "outputs": [],
   "source": [
    "with open(\"best_xgb_model.pkl\", \"wb\") as file:\n",
    "    pickle.dump(best_xgb, file)\n",
    "\n",
    "print(\"Model saved as best_xgb_model.pkl\")"
   ]
  }
 ],
 "metadata": {
  "kernelspec": {
   "display_name": "Python [conda env:base] *",
   "language": "python",
   "name": "conda-base-py"
  },
  "language_info": {
   "codemirror_mode": {
    "name": "ipython",
    "version": 3
   },
   "file_extension": ".py",
   "mimetype": "text/x-python",
   "name": "python",
   "nbconvert_exporter": "python",
   "pygments_lexer": "ipython3",
   "version": "3.12.7"
  }
 },
 "nbformat": 4,
 "nbformat_minor": 5
}
